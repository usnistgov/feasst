{
 "cells": [
  {
   "cell_type": "markdown",
   "id": "appointed-morgan",
   "metadata": {},
   "source": [
    "# Simulation of a single 20-bead linear chain"
   ]
  },
  {
   "cell_type": "code",
   "execution_count": 1,
   "id": "dynamic-alexander",
   "metadata": {},
   "outputs": [
    {
     "name": "stdout",
     "output_type": "stream",
     "text": [
      "# Usage: /home/user/feasst/build/bin/fst < file.txt\n",
      "FEASST version 0.25.13\n",
      "MonteCarlo\n",
      "Configuration cubic_side_length=30 particle_type=chain:/feasst/plugin/chain/particle/chain20.txt\n",
      "Potential Model=LennardJones VisitModel=VisitModelIntra intra_cut=1\n",
      "ThermoParams beta=1 chemical_potential=1\n",
      "Metropolis\n",
      "TrialAdd particle_type=chain\n",
      "Run until_num_particles=1\n",
      "# Initializing random number generator with seed: 1748976140\n",
      "Remove name=TrialAdd\n",
      "TrialPivot max_length=8 tunable_param=20\n",
      "TrialCrankshaft max_length=8 tunable_param=20\n",
      "TrialGrowFile grow_file=grow_chain20.txt\n",
      "Log output_file=chain.csv trials_per_write=1e4\n",
      "Movie output_file=chain.xyz trials_per_write=1e4\n",
      "Energy output_file=chain_en.csv trials_per_write=1e4\n",
      "CheckEnergy decimal_places=6 trials_per_update=1e4\n",
      "Tune\n",
      "Run num_trials=1e3\n",
      "EndToEndDistance output_file=end_to_end2.csv\n",
      "RadiusOfGyration output_file=rg2.csv\n",
      "Run num_trials=1e5\n",
      " \n",
      " exit: 0\n"
     ]
    }
   ],
   "source": [
    "import copy\n",
    "import math\n",
    "import numpy as np\n",
    "import pandas as pd\n",
    "\n",
    "script=\"\"\"\n",
    "MonteCarlo\n",
    "Configuration cubic_side_length=30 particle_type=chain:/feasst/plugin/chain/particle/chain20.txt\n",
    "Potential Model=LennardJones VisitModel=VisitModelIntra intra_cut=1\n",
    "ThermoParams beta=1 chemical_potential=1\n",
    "Metropolis\n",
    "TrialAdd particle_type=chain\n",
    "Run until_num_particles=1\n",
    "Remove name=TrialAdd\n",
    "TrialPivot tunable_param=20 max_length=8\n",
    "TrialCrankshaft tunable_param=20 max_length=8\n",
    "TrialGrowFile grow_file=grow_chain20.txt\n",
    "Let [write]=trials_per_write=1e4 output_file=chain\n",
    "Log [write].csv\n",
    "Movie [write].xyz\n",
    "Energy [write]_en.csv\n",
    "CheckEnergy trials_per_update=1e4 decimal_places=6\n",
    "Tune\n",
    "Run num_trials=1e3\n",
    "EndToEndDistance output_file=end_to_end2.csv\n",
    "RadiusOfGyration output_file=rg2.csv\n",
    "Run num_trials=1e5\n",
    "\"\"\"\n",
    "\n",
    "# create grow_chain20.txt\n",
    "unit_grows = list()\n",
    "grows=list()\n",
    "length=20\n",
    "max_length=19\n",
    "for i in range(max_length):\n",
    "     unit_grows.append(\"bond true mobile_site \"+str(i)+\" anchor_site \"+str(i+1)+\" num_steps 4\\n\")\n",
    "     if i == 0:\n",
    "         grows.append(unit_grows[-1])\n",
    "     else:\n",
    "         grows.append(unit_grows[-1] + copy.deepcopy(grows[-1]))\n",
    "unit_grows = list()\n",
    "for i in range(max_length):\n",
    "    unit_grows.append(\"bond true mobile_site \"+str(length-i-1)+\" anchor_site \"+str(length-i-2)+'\\n')\n",
    "    if i == 0:\n",
    "        grows.append(unit_grows[-1])\n",
    "    else:\n",
    "        grows.append(unit_grows[-1] + copy.deepcopy(grows[-1]))\n",
    "for ind, grow in enumerate(grows):\n",
    "    grows[ind] = \"weight \"+str(1./len(grow))+\" \"+grows[ind]\n",
    "    grows[ind] = \"particle_type chain \" + grows[ind]\n",
    "with open('grow_chain20.txt', 'w') as file:\n",
    "    file.write('TrialGrowFile\\n\\n')\n",
    "    for grow in grows:\n",
    "        file.write(grow+'\\n')\n",
    "\n",
    "with open('script2.txt', 'w') as file: file.write(script)\n",
    "import subprocess\n",
    "syscode = subprocess.call(\"../../../build/bin/fst < script2.txt > script2.log\", shell=True, executable='/bin/bash')\n",
    "with open('script2.log', 'r') as file: print(file.read(), '\\n', 'exit:', syscode)"
   ]
  },
  {
   "cell_type": "code",
   "execution_count": 2,
   "id": "narrow-pendant",
   "metadata": {},
   "outputs": [],
   "source": [
    "rg=pd.read_csv('rg2.csv')\n",
    "assert np.abs(np.sqrt(2.45) - rg['average'][0]) < 4*rg['block_stdev'][0]\n",
    "end_to_end=pd.read_csv('end_to_end2.csv')\n",
    "assert np.abs(2.92 - end_to_end['average'][0]) < 4*end_to_end['block_stdev'][0]\n",
    "en=pd.read_csv('chain_en.csv')\n",
    "assert np.abs(-29.4 - en['average'][0]) < 4*en['block_stdev'][0]"
   ]
  },
  {
   "cell_type": "markdown",
   "id": "logical-dominant",
   "metadata": {},
   "source": [
    "Did this tutorial work as expected? Did you find any inconsistencies or have any comments? Please [contact](../../../CONTACT.rst) us. Any feedback is appreciated!"
   ]
  }
 ],
 "metadata": {
  "kernelspec": {
   "display_name": "Python 3 (ipykernel)",
   "language": "python",
   "name": "python3"
  },
  "language_info": {
   "codemirror_mode": {
    "name": "ipython",
    "version": 3
   },
   "file_extension": ".py",
   "mimetype": "text/x-python",
   "name": "python",
   "nbconvert_exporter": "python",
   "pygments_lexer": "ipython3",
   "version": "3.10.12"
  }
 },
 "nbformat": 4,
 "nbformat_minor": 5
}
