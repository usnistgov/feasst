{
 "cells": [
  {
   "cell_type": "markdown",
   "id": "appointed-morgan",
   "metadata": {},
   "source": [
    "# Simulation of a single 20-bead linear chain"
   ]
  },
  {
   "cell_type": "code",
   "execution_count": 1,
   "id": "dynamic-alexander",
   "metadata": {},
   "outputs": [
    {
     "name": "stdout",
     "output_type": "stream",
     "text": [
      "# FEASST version: v0.24.6-12-ge723d4ffc2-dirty-user/fixtut\n",
      "MonteCarlo\n",
      "Configuration cubic_side_length 30 particle_type0 /home/user/feasst/plugin/chain/particle/chain20.fstprt  \n",
      "Potential Model LennardJones VisitModel VisitModelIntra intra_cut 1  \n",
      "ThermoParams beta 1 chemical_potential0 1  \n",
      "Metropolis  \n",
      "TrialAdd particle_type 0  \n",
      "Run until_num_particles 1  \n",
      "# initializing random number generator with seed: 1714769149\n",
      "RemoveTrial name TrialAdd  \n",
      "TrialPivot max_length 8 tunable_param 20 weight 1  \n",
      "TrialCrankshaft max_length 8 tunable_param 20 weight 1  \n",
      "TrialGrowFile grow_file grow_chain20.txt  \n",
      "Log output_file chain.txt trials_per_write 1e4  \n",
      "Movie output_file chain.xyz trials_per_write 1e4  \n",
      "Energy output_file chain_en.txt trials_per_write 1e4  \n",
      "CheckEnergy tolerance 1e-10 trials_per_update 1e4  \n",
      "Tune  \n",
      "Run num_trials 1e3  \n",
      "EndToEndDistance output_file end_to_end2.txt  \n",
      "RadiusOfGyration output_file rg2.txt  \n",
      "Run num_trials 1e5  \n",
      " \n",
      " exit: 0\n"
     ]
    }
   ],
   "source": [
    "import unittest\n",
    "import copy\n",
    "import math\n",
    "import numpy as np\n",
    "import pandas as pd\n",
    "\n",
    "script=\"\"\"\n",
    "MonteCarlo\n",
    "Configuration cubic_side_length 30 \\\n",
    "              particle_type0 /feasst/plugin/chain/particle/chain20.fstprt\n",
    "Potential Model LennardJones VisitModel VisitModelIntra intra_cut 1\n",
    "ThermoParams beta 1 chemical_potential0 1\n",
    "Metropolis\n",
    "TrialAdd particle_type 0\n",
    "Run until_num_particles 1\n",
    "RemoveTrial name TrialAdd\n",
    "TrialPivot weight 1 tunable_param 20 max_length 8\n",
    "TrialCrankshaft weight 1 tunable_param 20 max_length 8\n",
    "TrialGrowFile grow_file grow_chain20.txt\n",
    "set_variable trials_per 1e4\n",
    "Log trials_per_write trials_per output_file chain.txt\n",
    "Movie trials_per_write trials_per output_file chain.xyz\n",
    "Energy trials_per_write trials_per output_file chain_en.txt\n",
    "CheckEnergy trials_per_update trials_per tolerance 1e-10\n",
    "Tune\n",
    "Run num_trials 1e3\n",
    "EndToEndDistance output_file end_to_end2.txt\n",
    "RadiusOfGyration output_file rg2.txt\n",
    "Run num_trials 1e5\n",
    "\"\"\"\n",
    "\n",
    "# create grow_chain20.txt\n",
    "unit_grows = list()\n",
    "grows=list()\n",
    "length=20\n",
    "max_length=19\n",
    "for i in range(max_length):\n",
    "     unit_grows.append(\"bond true mobile_site \"+str(i)+\" anchor_site \"+str(i+1)+\" num_steps 4\\n\")\n",
    "     if i == 0:\n",
    "         grows.append(unit_grows[-1])\n",
    "     else:\n",
    "         grows.append(unit_grows[-1] + copy.deepcopy(grows[-1]))\n",
    "unit_grows = list()\n",
    "for i in range(max_length):\n",
    "    unit_grows.append(\"bond true mobile_site \"+str(length-i-1)+\" anchor_site \"+str(length-i-2)+'\\n')\n",
    "    if i == 0:\n",
    "        grows.append(unit_grows[-1])\n",
    "    else:\n",
    "        grows.append(unit_grows[-1] + copy.deepcopy(grows[-1]))\n",
    "for ind, grow in enumerate(grows):\n",
    "    grows[ind] = \"weight \"+str(1./len(grow))+\" \"+grows[ind]\n",
    "    grows[ind] = \"particle_type 0 \" + grows[ind]\n",
    "with open('grow_chain20.txt', 'w') as file:\n",
    "    file.write('TrialGrowFile\\n\\n')\n",
    "    for grow in grows:\n",
    "        file.write(grow+'\\n')\n",
    "\n",
    "with open('script2.txt', 'w') as file: file.write(script)\n",
    "import subprocess\n",
    "syscode = subprocess.call(\"../../../build/bin/fst < script2.txt > script2.log\", shell=True, executable='/bin/bash')\n",
    "with open('script2.log', 'r') as file: print(file.read(), '\\n', 'exit:', syscode)"
   ]
  },
  {
   "cell_type": "code",
   "execution_count": 2,
   "id": "narrow-pendant",
   "metadata": {},
   "outputs": [
    {
     "name": "stderr",
     "output_type": "stream",
     "text": [
      "test_rg_en (__main__.TestChain20RG) ... ok\n",
      "\n",
      "----------------------------------------------------------------------\n",
      "Ran 1 test in 0.005s\n",
      "\n",
      "OK\n"
     ]
    },
    {
     "data": {
      "text/plain": [
       "<unittest.main.TestProgram at 0x7823fc712f80>"
      ]
     },
     "execution_count": 2,
     "metadata": {},
     "output_type": "execute_result"
    }
   ],
   "source": [
    "class TestChain20RG(unittest.TestCase):\n",
    "    def test_rg_en(self):\n",
    "        rg=pd.read_csv('rg2.txt')\n",
    "        self.assertAlmostEqual(np.sqrt(2.45), rg['average'][0], delta=4*rg['block_stdev'][0])\n",
    "        end_to_end=pd.read_csv('end_to_end2.txt')\n",
    "        self.assertAlmostEqual(2.92, end_to_end['average'][0], delta=4*end_to_end['block_stdev'][0])\n",
    "        en=pd.read_csv('chain_en.txt')\n",
    "        self.assertAlmostEqual(-29.4, en['average'][0], delta=4*en['block_stdev'][0])\n",
    "unittest.main(argv=[''], verbosity=2, exit=False)"
   ]
  },
  {
   "cell_type": "markdown",
   "id": "logical-dominant",
   "metadata": {},
   "source": [
    "Did this tutorial work as expected? Did you find any inconsistencies or have any comments? Please [contact](../../../CONTACT.rst) us. Any feedback is appreciated!"
   ]
  }
 ],
 "metadata": {
  "kernelspec": {
   "display_name": "Python 3 (ipykernel)",
   "language": "python",
   "name": "python3"
  },
  "language_info": {
   "codemirror_mode": {
    "name": "ipython",
    "version": 3
   },
   "file_extension": ".py",
   "mimetype": "text/x-python",
   "name": "python",
   "nbconvert_exporter": "python",
   "pygments_lexer": "ipython3",
   "version": "3.10.12"
  }
 },
 "nbformat": 4,
 "nbformat_minor": 5
}
