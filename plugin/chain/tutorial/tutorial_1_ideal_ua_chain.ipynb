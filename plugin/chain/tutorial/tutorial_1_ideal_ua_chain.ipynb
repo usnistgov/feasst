{
 "cells": [
  {
   "cell_type": "markdown",
   "id": "greatest-sullivan",
   "metadata": {},
   "source": [
    "# Simulation of a single chain"
   ]
  },
  {
   "cell_type": "code",
   "execution_count": 1,
   "id": "dynamic-alexander",
   "metadata": {},
   "outputs": [
    {
     "name": "stdout",
     "output_type": "stream",
     "text": [
      "# Usage: /home/user/feasst/build/bin/fst < file.txt\n",
      "FEASST version 0.25.13\n",
      "MonteCarlo\n",
      "Configuration cubic_side_length=40 cutoff=20 particle_type=chain:/feasst/plugin/chain/particle/chain5.txt periodic=false,false,false\n",
      "Potential Model=LennardJones VisitModel=VisitModelIntra intra_cut=1\n",
      "ThermoParams beta=1 chemical_potential=1\n",
      "Metropolis\n",
      "TrialAdd particle_type=chain\n",
      "Run until_num_particles=1\n",
      "# Initializing random number generator with seed: 1748976241\n",
      "Remove name=TrialAdd\n",
      "TrialGrowFile grow_file=grow_chain5.txt\n",
      "Log output_file=chain.txt trials_per_write=1e4\n",
      "Movie output_file=chain.xyz trials_per_write=1e4\n",
      "CheckEnergy decimal_places=6 trials_per_update=1e4\n",
      "Tune\n",
      "Run num_trials=1e3\n",
      "Energy output_file=chain_en.csv trials_per_write=1e4\n",
      "RadiusOfGyration output_file=rg1.csv\n",
      "Run num_trials=1e5\n",
      " \n",
      " exit: 0\n"
     ]
    }
   ],
   "source": [
    "import math\n",
    "import numpy as np\n",
    "import pandas as pd\n",
    "\n",
    "script=\"\"\"\n",
    "MonteCarlo\n",
    "Configuration cubic_side_length=40 periodic=false,false,false \\\n",
    "    cutoff=20 particle_type=chain:/feasst/plugin/chain/particle/chain5.txt\n",
    "Potential Model=LennardJones VisitModel=VisitModelIntra intra_cut=1\n",
    "ThermoParams beta=1 chemical_potential=1\n",
    "Metropolis\n",
    "TrialAdd particle_type=chain\n",
    "Run until_num_particles=1\n",
    "Remove name=TrialAdd\n",
    "#TrialPivot weight=1 tunable_param=20\n",
    "#TrialCrankshaft weight=1 tunable_param=20\n",
    "TrialGrowFile grow_file=grow_chain5.txt\n",
    "Let [write]=trials_per_write=1e4 output_file=chain\n",
    "Log [write].txt\n",
    "Movie [write].xyz\n",
    "CheckEnergy trials_per_update=1e4 decimal_places=6\n",
    "Tune\n",
    "Run num_trials=1e3\n",
    "Energy [write]_en.csv\n",
    "RadiusOfGyration output_file=rg1.csv\n",
    "Run num_trials=1e5\n",
    "\"\"\"\n",
    "\n",
    "with open('grow_chain5.txt', 'w') as file: file.write(\n",
    "'TrialGrowFile\\n\\n\\\n",
    "particle_type chain site 0 regrow true\\n\\\n",
    "bond true mobile_site 1 anchor_site 0\\n\\\n",
    "bond true mobile_site 2 anchor_site 1\\n\\\n",
    "bond true mobile_site 3 anchor_site 2\\n\\\n",
    "bond true mobile_site 4 anchor_site 3\\n')\n",
    "    \n",
    "with open('script1.txt', 'w') as file: file.write(script)\n",
    "import subprocess\n",
    "syscode = subprocess.call(\"../../../build/bin/fst < script1.txt > script1.log\", shell=True, executable='/bin/bash')\n",
    "with open('script1.log', 'r') as file: print(file.read(), '\\n', 'exit:', syscode)"
   ]
  },
  {
   "cell_type": "code",
   "execution_count": 2,
   "id": "super-messenger",
   "metadata": {},
   "outputs": [],
   "source": [
    "rg=pd.read_csv('rg1.csv')\n",
    "assert np.abs(0.9335 - rg['average'][0]) < 3*(rg['block_stdev'][0]+0.)\n",
    "en=pd.read_csv('chain_en.csv')\n",
    "assert np.abs(-2.050 - en['average'][0]) < 3*(en['block_stdev'][0]+0.)"
   ]
  },
  {
   "cell_type": "markdown",
   "id": "ordinary-classics",
   "metadata": {},
   "source": [
    "Did this tutorial work as expected? Did you find any inconsistencies or have any comments? Please [contact](../../../CONTACT.rst) us. Any feedback is appreciated!"
   ]
  }
 ],
 "metadata": {
  "kernelspec": {
   "display_name": "Python 3 (ipykernel)",
   "language": "python",
   "name": "python3"
  },
  "language_info": {
   "codemirror_mode": {
    "name": "ipython",
    "version": 3
   },
   "file_extension": ".py",
   "mimetype": "text/x-python",
   "name": "python",
   "nbconvert_exporter": "python",
   "pygments_lexer": "ipython3",
   "version": "3.10.12"
  }
 },
 "nbformat": 4,
 "nbformat_minor": 5
}
