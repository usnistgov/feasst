{
 "cells": [
  {
   "cell_type": "markdown",
   "metadata": {},
   "source": [
    "# Block Averaging Example\n",
    "\n",
    "\n",
    "In this example, the block averaging approach to computing error bars is considered.\n",
    "First, please read the original method: https://doi.org/10.1063/1.457480.\n",
    "Then, also consider the discussion on block averages in Appendix D of Frenkel and Smit.\n",
    "Then, we'll reproduce Frenkel and Smith's case study 4 (page 98-100 and Figure 4.4)."
   ]
  },
  {
   "cell_type": "code",
   "execution_count": 1,
   "metadata": {},
   "outputs": [],
   "source": [
    "import sys\n",
    "import unittest\n",
    "import feasst as fst\n",
    "\n",
    "class TestMonteCarlo4Block(unittest.TestCase):\n",
    "    def test_srsw(self, num_particles=108, density=0.8442, temperature=1.5, trials_per=1e5):\n",
    "        monte_carlo = fst.MonteCarlo()\n",
    "        # monte_carlo.set(fst.MakeRandomMT19937(fst.args({\"seed\": \"1234\"})))\n",
    "        monte_carlo.add(fst.MakeConfiguration(fst.args({\n",
    "            \"cubic_side_length\": str((num_particles/density)**(1./3.)),\n",
    "            \"particle_type0\": fst.install_dir() + \"/particle/lj.fstprt\",\n",
    "            \"cutoff0\": \"2.5\",\n",
    "        })))\n",
    "        monte_carlo.add(fst.MakePotential(fst.MakeLennardJonesCutShift()))\n",
    "        monte_carlo.set(fst.MakeThermoParams(fst.args({\"beta\": str(1./temperature),\n",
    "                                                       \"chemical_potential\": \"1.\"})))\n",
    "        monte_carlo.set(fst.MakeMetropolis())\n",
    "        monte_carlo.add(fst.MakeTrialTranslate(fst.args({\"weight\": \"1.\", \"tunable_param\": \"2.\"})))\n",
    "        monte_carlo.add(fst.MakeTrialAdd(fst.args({\"particle_type\": \"0\"})))\n",
    "        monte_carlo.run(fst.MakeRun(fst.args({\"until_num_particles\": str(num_particles)})))\n",
    "        monte_carlo.run(fst.MakeRemoveTrial(fst.args({\"name\": \"TrialAdd\"})))\n",
    "        monte_carlo.add(fst.MakeLogAndMovie(fst.args({\n",
    "            \"trials_per\" : str(trials_per),\n",
    "            \"file_name\": \"movie\",\n",
    "            \"clear_file\": \"true\"})))\n",
    "        monte_carlo.add(fst.MakeCheckEnergy(fst.args({\"trials_per\" : str(trials_per)})))\n",
    "        monte_carlo.add(fst.MakeTune())\n",
    "\n",
    "        # equilibrate\n",
    "        monte_carlo.attempt(int(1e6))\n",
    "\n",
    "        # compute average using this script\n",
    "        energy = fst.MakeAccumulator()\n",
    "\n",
    "        # production\n",
    "        for _ in range(int(1e8)):\n",
    "            monte_carlo.attempt()\n",
    "            energy.accumulate(monte_carlo.criteria().current_energy())\n",
    "        \n",
    "        print('average energy', energy.average())\n",
    "        for op in range(energy.max_block_operations()):\n",
    "            print(op, energy.block_stdev(op), energy.block_std_of_std(op))\n",
    "\n",
    "        #self.assertAlmostEqual(energy.block_stdev(13)/num_particles, 0.0012, delta=0.0004)\n",
    "        #self.assertAlmostEqual(energy.average()/num_particles, -4.4190, delta=3*energy.block_stdev(13)/num_particles)\n",
    "       "
   ]
  },
  {
   "cell_type": "markdown",
   "metadata": {},
   "source": [
    "If the test passes, the energy is within the tolerance of the SRSW value and the two ensemble average methods agreed."
   ]
  },
  {
   "cell_type": "code",
   "execution_count": 2,
   "metadata": {},
   "outputs": [
    {
     "name": "stderr",
     "output_type": "stream",
     "text": [
      "test_srsw (__main__.TestMonteCarlo4Block) ... "
     ]
    },
    {
     "name": "stdout",
     "output_type": "stream",
     "text": [
      "CPU times: user 3 µs, sys: 0 ns, total: 3 µs\n",
      "Wall time: 7.15 µs\n",
      "average energy -576.4376128069971\n",
      "0 0.07510636040234885 0.04322275467550779\n",
      "1 0.07359011506962478 0.04749864777552218\n",
      "2 0.07344944697207455 0.0589605210359109\n",
      "3 0.07239626945616733 0.06608570396503526\n",
      "4 0.05376806537982441 0.0\n",
      "5 0.0 0.0\n"
     ]
    },
    {
     "name": "stderr",
     "output_type": "stream",
     "text": [
      "ok\n",
      "\n",
      "----------------------------------------------------------------------\n",
      "Ran 1 test in 1757.834s\n",
      "\n",
      "OK\n"
     ]
    },
    {
     "data": {
      "text/plain": [
       "<unittest.main.TestProgram at 0x7f1b641185e0>"
      ]
     },
     "execution_count": 2,
     "metadata": {},
     "output_type": "execute_result"
    }
   ],
   "source": [
    "%time  # Note: any line starting with % is only to be used with ipynb\n",
    "unittest.main(argv=[''], verbosity=2, exit=False)"
   ]
  },
  {
   "cell_type": "markdown",
   "metadata": {},
   "source": [
    "Did this tutorial work as expected? Did you find any inconsistencies or have any comments? Please [contact](../../../../CONTACT.rst) us. Any feedback is appreciated!"
   ]
  }
 ],
 "metadata": {
  "kernelspec": {
   "display_name": "Python 3 (ipykernel)",
   "language": "python",
   "name": "python3"
  },
  "language_info": {
   "codemirror_mode": {
    "name": "ipython",
    "version": 3
   },
   "file_extension": ".py",
   "mimetype": "text/x-python",
   "name": "python",
   "nbconvert_exporter": "python",
   "pygments_lexer": "ipython3",
   "version": "3.12.3"
  }
 },
 "nbformat": 4,
 "nbformat_minor": 4
}
