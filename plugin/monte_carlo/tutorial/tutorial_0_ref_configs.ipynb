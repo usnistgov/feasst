{
 "cells": [
  {
   "cell_type": "markdown",
   "id": "unknown-specific",
   "metadata": {},
   "source": [
    "# Lennard Jones potential test\n",
    "\n",
    "In this example, an instantaneous configuration is compared against published values for the potential energy.\n",
    "\n",
    "First, the potential energy between two particles is compared to the analytical value.\n",
    "Next, the energy of an entire configuration is compared against the NIST SRSW reference calculations."
   ]
  },
  {
   "cell_type": "code",
   "execution_count": 1,
   "id": "split-sculpture",
   "metadata": {},
   "outputs": [
    {
     "name": "stderr",
     "output_type": "stream",
     "text": [
      "test_srsw_ref_config (__main__.TestMonteCarloLJRef.test_srsw_ref_config)\n",
      "Test the LJ potential against a configuration of 30 particles. ... ok\n",
      "test_srsw_ref_config_triclinic (__main__.TestMonteCarloLJRef.test_srsw_ref_config_triclinic)\n",
      "Test the LJ potential against a configuration of 300 particles in a trinclinic cell. ... ok\n",
      "test_two_particle (__main__.TestMonteCarloLJRef.test_two_particle)\n",
      "Test the LJ potential against analytical calculation of two particles ... ok\n",
      "\n",
      "----------------------------------------------------------------------\n",
      "Ran 3 tests in 0.028s\n",
      "\n",
      "OK\n"
     ]
    },
    {
     "data": {
      "text/plain": [
       "<unittest.main.TestProgram at 0x7f5036b8c4a0>"
      ]
     },
     "execution_count": 1,
     "metadata": {},
     "output_type": "execute_result"
    }
   ],
   "source": [
    "import math\n",
    "import sys\n",
    "import subprocess\n",
    "import unittest\n",
    "import pandas as pd\n",
    "\n",
    "# Run a feasst simulation with the given parameters\n",
    "def run_fst(params):\n",
    "    with open(\"launch0.txt\", \"w\") as myfile: myfile.write(\"\"\"\n",
    "MonteCarlo\n",
    "Configuration {config_params}\n",
    "Potential Model LennardJones\n",
    "Potential VisitModel LongRangeCorrections\n",
    "ThermoParams beta 1000000\n",
    "Metropolis\n",
    "Log output_file lj.csv max_precision true clear_file true\n",
    "Run num_trials 1\n",
    "\"\"\".format(**params))\n",
    "    syscode = subprocess.call(\"../../../build/bin/fst < launch0.txt > launch0.log\", shell=True, executable='/bin/bash')\n",
    "    if syscode > 0: sys.exit(1)\n",
    "\n",
    "class TestMonteCarloLJRef(unittest.TestCase):\n",
    "    def test_two_particle(self):\n",
    "        \"\"\"Test the LJ potential against analytical calculation of two particles\"\"\"\n",
    "        params = {\"displacement\": 1.2345}\n",
    "        with open(\"two.xyz\", \"w\") as myfile: myfile.write(\n",
    "\"\"\"2\n",
    "-1 8 8 8\n",
    "0 0 0 0\n",
    "1 0 0 {displacement}\"\"\".format(**params))\n",
    "        run_fst({\"config_params\": \"particle_type0 /feasst/particle/lj.fstprt xyz_file two.xyz\"})\n",
    "        df = pd.read_csv('lj.csv')\n",
    "        self.assertEqual(2, df['num_particles_of_type0'][0])\n",
    "\n",
    "        # compute the expected analytical LJ and LRC energies\n",
    "        enlj = 4*(params[\"displacement\"]**(-12) - params[\"displacement\"]**(-6))\n",
    "        rcut = 3 #mc.system().configuration().model_params().select(\"cutoff\").value(0)\n",
    "        enlrc = (8./3.)*math.pi*2**2/ 8**3*((1./3.)*rcut**(-9) - rcut**(-3))\n",
    "\n",
    "        # Compare the analytical results with the FEASST computed energies.\n",
    "        self.assertAlmostEqual(enlj, df['LennardJones'][0], 12)\n",
    "        self.assertAlmostEqual(enlrc, df['LongRangeCorrections'][0], 12)\n",
    "        self.assertAlmostEqual(enlj + enlrc, df['energy'][0], 12)\n",
    "\n",
    "    def test_srsw_ref_config(self):\n",
    "        \"\"\"Test the LJ potential against a configuration of 30 particles.\n",
    "        In particular, the 4th configuration of the LJ SRSW reference:\n",
    "        https://www.nist.gov/mml/csd/chemical-informatics-research-group/lennard-jones-fluid-reference-calculations\n",
    "        \"\"\"\n",
    "        run_fst({\"config_params\": \"cubic_side_length 8 particle_type0 /feasst/particle/lj.fstprt \\\n",
    "                  xyz_file /feasst/plugin/configuration/test/data/lj_sample_config_periodic4.xyz\"})\n",
    "        df = pd.read_csv('lj.csv')\n",
    "        self.assertEqual(df['num_particles_of_type0'][0], 30)\n",
    "        enlj = -16.790321304625856\n",
    "        enlrc = -0.5451660014945704\n",
    "        self.assertAlmostEqual(enlj, df['LennardJones'][0], 12)\n",
    "        self.assertAlmostEqual(enlrc, df['LongRangeCorrections'][0], 12)\n",
    "        self.assertAlmostEqual(enlj + enlrc, df['energy'][0], 12)\n",
    "\n",
    "    def test_srsw_ref_config_triclinic(self):\n",
    "        \"\"\"Test the LJ potential against a configuration of 300 particles in a trinclinic cell.\n",
    "        In particular, the 3th configuration of the triclinic LJ SRSW reference:\n",
    "        https://www.nist.gov/mml/csd/chemical-informatics-group/lennard-jones-fluid-reference-calculations-non-cuboid-cell\n",
    "        \"\"\"\n",
    "        run_fst({\"config_params\": \"side_length0 10.0 side_length1 9.84807753012208 side_length2 9.64974312607518 \\\n",
    "            xy 1.7364817766693041 xz 2.5881904510252074 yz 0.42863479791864567 \\\n",
    "            particle_type0 /feasst/particle/lj.fstprt \\\n",
    "            xyz_file /feasst/plugin/configuration/test/data/lj_triclinic_sample_config_periodic3.xyz\"})\n",
    "        df = pd.read_csv('lj.csv')\n",
    "        self.assertEqual(df['num_particles_of_type0'][0], 300)\n",
    "        enlj = -505.78567945268367\n",
    "        enlrc = -29.37186430697248\n",
    "        self.assertAlmostEqual(enlj, df['LennardJones'][0], 12)\n",
    "        self.assertAlmostEqual(enlrc, df['LongRangeCorrections'][0], 12)\n",
    "        self.assertAlmostEqual(enlj + enlrc, df['energy'][0], 12)\n",
    "\n",
    "unittest.main(argv=[''], verbosity=2, exit=False)\n",
    "\n"
   ]
  },
  {
   "cell_type": "markdown",
   "id": "numeric-tattoo",
   "metadata": {},
   "source": [
    "Did this tutorial work as expected? Did you find any inconsistencies or have any comments? Please [contact](../../../CONTACT.rst) us. Any feedback is appreciated!"
   ]
  }
 ],
 "metadata": {
  "kernelspec": {
   "display_name": "Python 3 (ipykernel)",
   "language": "python",
   "name": "python3"
  },
  "language_info": {
   "codemirror_mode": {
    "name": "ipython",
    "version": 3
   },
   "file_extension": ".py",
   "mimetype": "text/x-python",
   "name": "python",
   "nbconvert_exporter": "python",
   "pygments_lexer": "ipython3",
   "version": "3.12.3"
  }
 },
 "nbformat": 4,
 "nbformat_minor": 5
}
