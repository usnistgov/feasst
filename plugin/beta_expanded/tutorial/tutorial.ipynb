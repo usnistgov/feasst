{
 "cells": [
  {
   "cell_type": "markdown",
   "metadata": {},
   "source": [
    "# Beta expanded ensemble\n",
    "\n",
    "Example expanded ensemble simulation inverse temperature."
   ]
  },
  {
   "cell_type": "code",
   "execution_count": 1,
   "metadata": {},
   "outputs": [
    {
     "name": "stdout",
     "output_type": "stream",
     "text": [
      "# FEASST version: v0.21-21-g12898a9d3b-dirty-user/trial_library\n",
      "Configuration cubic_side_length 8 particle_type0 /home/user/feasst/particle/lj.fstprt  \n",
      "Potential Model LennardJones  \n",
      "Potential VisitModel LongRangeCorrections  \n",
      "ThermoParams beta 1.2 chemical_potential0 1  \n",
      "FlatHistogram Bias WLTM Macrostate MacrostateBeta collect_flatness 18 max 1.2 min 0.8 min_flatness 22 min_sweeps 10 width 0.09999999999999998  \n",
      "TrialTranslate tunable_param 1 weight 1  \n",
      "TrialAdd particle_type 0  \n",
      "Run until_num_particles 10  \n",
      "# initializing random number generator with seed: 1678985889\n",
      "RemoveTrial name TrialAdd  \n",
      "TrialBeta fixed_beta_change 0.09999999999999998  \n",
      "Log file_name lj_beta.txt trials_per_write 1e4  \n",
      "Movie file_name lj_beta.xyz trials_per_write 1e4  \n",
      "CheckEnergy trials_per_update 1e4  \n",
      "Tune  \n",
      "CriteriaUpdater trials_per_update 1e4  \n",
      "CriteriaWriter file_name lj_beta_crit.txt file_name_append_phase true trials_per_write 1e4  \n",
      "Energy file_name lj_beta_energy file_name_append_phase true multistate true trials_per_update 1 trials_per_write 1e4  \n",
      "Run num_trials 1e6  \n",
      " \n",
      " exit: 0\n"
     ]
    }
   ],
   "source": [
    "params = {\"beta_min\": 0.8, \"beta_max\": 1.2}\n",
    "beta_num = 5\n",
    "params[\"delta_beta\"] = (params[\"beta_max\"] - params[\"beta_min\"])/(beta_num-1)\n",
    "\n",
    "script=\"\"\"\n",
    "MonteCarlo\n",
    "Configuration cubic_side_length 8 particle_type0 /feasst/particle/lj.fstprt\n",
    "Potential Model LennardJones\n",
    "Potential VisitModel LongRangeCorrections\n",
    "ThermoParams beta 1.2 chemical_potential0 1\n",
    "FlatHistogram Macrostate MacrostateBeta width {delta_beta} max {beta_max} min {beta_min} \\\n",
    "    Bias WLTM collect_flatness 18 min_flatness 22 min_sweeps 10\n",
    "TrialTranslate weight 1 tunable_param 1\n",
    "TrialAdd particle_type 0\n",
    "Run until_num_particles 10\n",
    "RemoveTrial name TrialAdd\n",
    "TrialBeta fixed_beta_change {delta_beta}\n",
    "set_variable trials_per 1e4\n",
    "Log trials_per_write trials_per file_name lj_beta.txt\n",
    "Movie trials_per_write trials_per file_name lj_beta.xyz\n",
    "CheckEnergy trials_per_update trials_per\n",
    "Tune\n",
    "CriteriaUpdater trials_per_update trials_per\n",
    "CriteriaWriter trials_per_write trials_per file_name lj_beta_crit.txt file_name_append_phase true\n",
    "Energy file_name lj_beta_energy file_name_append_phase true trials_per_update 1 \\\n",
    "    trials_per_write trials_per multistate true\n",
    "Run num_trials 1e6\n",
    "\"\"\".format(**params)\n",
    "\n",
    "with open('script.txt', 'w') as file: file.write(script)\n",
    "import subprocess\n",
    "syscode = subprocess.call(\"../../../build/bin/fst < script.txt > script.log\", shell=True, executable='/bin/bash')\n",
    "with open('script.log', 'r') as file: print(file.read(), '\\n', 'exit:', syscode)"
   ]
  },
  {
   "cell_type": "markdown",
   "metadata": {},
   "source": [
    "Did this tutorial work as expected? Did you find any inconsistencies or have any comments? Please [contact](../../../CONTACT.rst) us. Any feedback is appreciated!"
   ]
  }
 ],
 "metadata": {
  "kernelspec": {
   "display_name": "Python 3 (ipykernel)",
   "language": "python",
   "name": "python3"
  },
  "language_info": {
   "codemirror_mode": {
    "name": "ipython",
    "version": 3
   },
   "file_extension": ".py",
   "mimetype": "text/x-python",
   "name": "python",
   "nbconvert_exporter": "python",
   "pygments_lexer": "ipython3",
   "version": "3.10.12"
  }
 },
 "nbformat": 4,
 "nbformat_minor": 4
}
